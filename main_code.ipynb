{
 "cells": [
  {
   "cell_type": "code",
   "execution_count": 1,
   "id": "9988b3e5",
   "metadata": {},
   "outputs": [
    {
     "name": "stdout",
     "output_type": "stream",
     "text": [
      "Requirement already satisfied: seaborn in c:\\users\\taufiq\\appdata\\local\\programs\\python\\python311\\lib\\site-packages (0.13.2)\n",
      "Requirement already satisfied: numpy!=1.24.0,>=1.20 in c:\\users\\taufiq\\appdata\\local\\programs\\python\\python311\\lib\\site-packages (from seaborn) (1.26.1)\n",
      "Requirement already satisfied: pandas>=1.2 in c:\\users\\taufiq\\appdata\\local\\programs\\python\\python311\\lib\\site-packages (from seaborn) (2.1.2)\n",
      "Requirement already satisfied: matplotlib!=3.6.1,>=3.4 in c:\\users\\taufiq\\appdata\\local\\programs\\python\\python311\\lib\\site-packages (from seaborn) (3.8.1)\n",
      "Requirement already satisfied: contourpy>=1.0.1 in c:\\users\\taufiq\\appdata\\local\\programs\\python\\python311\\lib\\site-packages (from matplotlib!=3.6.1,>=3.4->seaborn) (1.2.0)\n",
      "Requirement already satisfied: cycler>=0.10 in c:\\users\\taufiq\\appdata\\local\\programs\\python\\python311\\lib\\site-packages (from matplotlib!=3.6.1,>=3.4->seaborn) (0.12.1)\n",
      "Requirement already satisfied: fonttools>=4.22.0 in c:\\users\\taufiq\\appdata\\local\\programs\\python\\python311\\lib\\site-packages (from matplotlib!=3.6.1,>=3.4->seaborn) (4.44.0)\n",
      "Requirement already satisfied: kiwisolver>=1.3.1 in c:\\users\\taufiq\\appdata\\local\\programs\\python\\python311\\lib\\site-packages (from matplotlib!=3.6.1,>=3.4->seaborn) (1.4.5)\n",
      "Requirement already satisfied: packaging>=20.0 in c:\\users\\taufiq\\appdata\\local\\programs\\python\\python311\\lib\\site-packages (from matplotlib!=3.6.1,>=3.4->seaborn) (23.2)\n",
      "Requirement already satisfied: pillow>=8 in c:\\users\\taufiq\\appdata\\local\\programs\\python\\python311\\lib\\site-packages (from matplotlib!=3.6.1,>=3.4->seaborn) (10.1.0)\n",
      "Requirement already satisfied: pyparsing>=2.3.1 in c:\\users\\taufiq\\appdata\\local\\programs\\python\\python311\\lib\\site-packages (from matplotlib!=3.6.1,>=3.4->seaborn) (3.1.1)\n",
      "Requirement already satisfied: python-dateutil>=2.7 in c:\\users\\taufiq\\appdata\\local\\programs\\python\\python311\\lib\\site-packages (from matplotlib!=3.6.1,>=3.4->seaborn) (2.8.2)\n",
      "Requirement already satisfied: pytz>=2020.1 in c:\\users\\taufiq\\appdata\\local\\programs\\python\\python311\\lib\\site-packages (from pandas>=1.2->seaborn) (2023.3.post1)\n",
      "Requirement already satisfied: tzdata>=2022.1 in c:\\users\\taufiq\\appdata\\local\\programs\\python\\python311\\lib\\site-packages (from pandas>=1.2->seaborn) (2023.3)\n",
      "Requirement already satisfied: six>=1.5 in c:\\users\\taufiq\\appdata\\local\\programs\\python\\python311\\lib\\site-packages (from python-dateutil>=2.7->matplotlib!=3.6.1,>=3.4->seaborn) (1.16.0)\n"
     ]
    },
    {
     "name": "stderr",
     "output_type": "stream",
     "text": [
      "\n",
      "[notice] A new release of pip is available: 23.1.2 -> 24.0\n",
      "[notice] To update, run: python.exe -m pip install --upgrade pip\n",
      "\n",
      "[notice] A new release of pip is available: 23.1.2 -> 24.0\n",
      "[notice] To update, run: python.exe -m pip install --upgrade pip\n"
     ]
    },
    {
     "name": "stdout",
     "output_type": "stream",
     "text": [
      "Requirement already satisfied: yellowbrick in c:\\users\\taufiq\\appdata\\local\\programs\\python\\python311\\lib\\site-packages (1.5)\n",
      "Requirement already satisfied: matplotlib!=3.0.0,>=2.0.2 in c:\\users\\taufiq\\appdata\\local\\programs\\python\\python311\\lib\\site-packages (from yellowbrick) (3.8.1)\n",
      "Requirement already satisfied: scipy>=1.0.0 in c:\\users\\taufiq\\appdata\\local\\programs\\python\\python311\\lib\\site-packages (from yellowbrick) (1.11.3)\n",
      "Requirement already satisfied: scikit-learn>=1.0.0 in c:\\users\\taufiq\\appdata\\local\\programs\\python\\python311\\lib\\site-packages (from yellowbrick) (1.3.2)\n",
      "Requirement already satisfied: numpy>=1.16.0 in c:\\users\\taufiq\\appdata\\local\\programs\\python\\python311\\lib\\site-packages (from yellowbrick) (1.26.1)\n",
      "Requirement already satisfied: cycler>=0.10.0 in c:\\users\\taufiq\\appdata\\local\\programs\\python\\python311\\lib\\site-packages (from yellowbrick) (0.12.1)\n",
      "Requirement already satisfied: contourpy>=1.0.1 in c:\\users\\taufiq\\appdata\\local\\programs\\python\\python311\\lib\\site-packages (from matplotlib!=3.0.0,>=2.0.2->yellowbrick) (1.2.0)\n",
      "Requirement already satisfied: fonttools>=4.22.0 in c:\\users\\taufiq\\appdata\\local\\programs\\python\\python311\\lib\\site-packages (from matplotlib!=3.0.0,>=2.0.2->yellowbrick) (4.44.0)\n",
      "Requirement already satisfied: kiwisolver>=1.3.1 in c:\\users\\taufiq\\appdata\\local\\programs\\python\\python311\\lib\\site-packages (from matplotlib!=3.0.0,>=2.0.2->yellowbrick) (1.4.5)\n",
      "Requirement already satisfied: packaging>=20.0 in c:\\users\\taufiq\\appdata\\local\\programs\\python\\python311\\lib\\site-packages (from matplotlib!=3.0.0,>=2.0.2->yellowbrick) (23.2)\n",
      "Requirement already satisfied: pillow>=8 in c:\\users\\taufiq\\appdata\\local\\programs\\python\\python311\\lib\\site-packages (from matplotlib!=3.0.0,>=2.0.2->yellowbrick) (10.1.0)\n",
      "Requirement already satisfied: pyparsing>=2.3.1 in c:\\users\\taufiq\\appdata\\local\\programs\\python\\python311\\lib\\site-packages (from matplotlib!=3.0.0,>=2.0.2->yellowbrick) (3.1.1)\n",
      "Requirement already satisfied: python-dateutil>=2.7 in c:\\users\\taufiq\\appdata\\local\\programs\\python\\python311\\lib\\site-packages (from matplotlib!=3.0.0,>=2.0.2->yellowbrick) (2.8.2)\n",
      "Requirement already satisfied: joblib>=1.1.1 in c:\\users\\taufiq\\appdata\\local\\programs\\python\\python311\\lib\\site-packages (from scikit-learn>=1.0.0->yellowbrick) (1.3.2)\n",
      "Requirement already satisfied: threadpoolctl>=2.0.0 in c:\\users\\taufiq\\appdata\\local\\programs\\python\\python311\\lib\\site-packages (from scikit-learn>=1.0.0->yellowbrick) (3.2.0)\n",
      "Requirement already satisfied: six>=1.5 in c:\\users\\taufiq\\appdata\\local\\programs\\python\\python311\\lib\\site-packages (from python-dateutil>=2.7->matplotlib!=3.0.0,>=2.0.2->yellowbrick) (1.16.0)\n"
     ]
    }
   ],
   "source": [
    "import numpy as np\n",
    "import pandas as pd\n",
    "from sklearn import neighbors, datasets\n",
    "from sklearn import model_selection\n",
    "from sklearn import metrics\n",
    "from sklearn import preprocessing\n",
    "from sklearn.decomposition import PCA\n",
    "!pip install seaborn\n",
    "!pip install yellowbrick\n",
    "import numpy as np\n",
    "import pandas as pd\n",
    "import datetime\n",
    "import matplotlib\n",
    "import matplotlib.pyplot as plt\n",
    "from matplotlib import colors\n",
    "import seaborn as sns\n",
    "from sklearn.preprocessing import LabelEncoder\n",
    "from sklearn.preprocessing import StandardScaler\n",
    "from sklearn.decomposition import PCA\n",
    "from yellowbrick.cluster import KElbowVisualizer\n",
    "from sklearn.cluster import KMeans\n",
    "import matplotlib.pyplot as plt, numpy as np\n",
    "from mpl_toolkits.mplot3d import Axes3D\n",
    "from sklearn.cluster import AgglomerativeClustering\n",
    "from matplotlib.colors import ListedColormap\n",
    "from sklearn import metrics\n",
    "import warnings\n",
    "import sys\n",
    "if not sys.warnoptions:\n",
    "    warnings.simplefilter(\"ignore\")\n",
    "np.random.seed(42)"
   ]
  },
  {
   "cell_type": "code",
   "execution_count": 2,
   "id": "c4e9a8ff",
   "metadata": {},
   "outputs": [],
   "source": [
    "df = pd.read_csv('marketing_campaign.csv', sep='\\t')"
   ]
  },
  {
   "cell_type": "code",
   "execution_count": 3,
   "id": "0ab27913",
   "metadata": {},
   "outputs": [
    {
     "data": {
      "text/html": [
       "<div>\n",
       "<style scoped>\n",
       "    .dataframe tbody tr th:only-of-type {\n",
       "        vertical-align: middle;\n",
       "    }\n",
       "\n",
       "    .dataframe tbody tr th {\n",
       "        vertical-align: top;\n",
       "    }\n",
       "\n",
       "    .dataframe thead th {\n",
       "        text-align: right;\n",
       "    }\n",
       "</style>\n",
       "<table border=\"1\" class=\"dataframe\">\n",
       "  <thead>\n",
       "    <tr style=\"text-align: right;\">\n",
       "      <th></th>\n",
       "      <th>ID</th>\n",
       "      <th>Year_Birth</th>\n",
       "      <th>Education</th>\n",
       "      <th>Marital_Status</th>\n",
       "      <th>Income</th>\n",
       "      <th>Kidhome</th>\n",
       "      <th>Teenhome</th>\n",
       "      <th>Dt_Customer</th>\n",
       "      <th>Recency</th>\n",
       "      <th>MntWines</th>\n",
       "      <th>...</th>\n",
       "      <th>NumWebVisitsMonth</th>\n",
       "      <th>AcceptedCmp3</th>\n",
       "      <th>AcceptedCmp4</th>\n",
       "      <th>AcceptedCmp5</th>\n",
       "      <th>AcceptedCmp1</th>\n",
       "      <th>AcceptedCmp2</th>\n",
       "      <th>Complain</th>\n",
       "      <th>Z_CostContact</th>\n",
       "      <th>Z_Revenue</th>\n",
       "      <th>Response</th>\n",
       "    </tr>\n",
       "  </thead>\n",
       "  <tbody>\n",
       "    <tr>\n",
       "      <th>0</th>\n",
       "      <td>5524</td>\n",
       "      <td>1957</td>\n",
       "      <td>Graduation</td>\n",
       "      <td>Single</td>\n",
       "      <td>58138.0</td>\n",
       "      <td>0</td>\n",
       "      <td>0</td>\n",
       "      <td>04-09-2012</td>\n",
       "      <td>58</td>\n",
       "      <td>635</td>\n",
       "      <td>...</td>\n",
       "      <td>7</td>\n",
       "      <td>0</td>\n",
       "      <td>0</td>\n",
       "      <td>0</td>\n",
       "      <td>0</td>\n",
       "      <td>0</td>\n",
       "      <td>0</td>\n",
       "      <td>3</td>\n",
       "      <td>11</td>\n",
       "      <td>1</td>\n",
       "    </tr>\n",
       "    <tr>\n",
       "      <th>1</th>\n",
       "      <td>2174</td>\n",
       "      <td>1954</td>\n",
       "      <td>Graduation</td>\n",
       "      <td>Single</td>\n",
       "      <td>46344.0</td>\n",
       "      <td>1</td>\n",
       "      <td>1</td>\n",
       "      <td>08-03-2014</td>\n",
       "      <td>38</td>\n",
       "      <td>11</td>\n",
       "      <td>...</td>\n",
       "      <td>5</td>\n",
       "      <td>0</td>\n",
       "      <td>0</td>\n",
       "      <td>0</td>\n",
       "      <td>0</td>\n",
       "      <td>0</td>\n",
       "      <td>0</td>\n",
       "      <td>3</td>\n",
       "      <td>11</td>\n",
       "      <td>0</td>\n",
       "    </tr>\n",
       "    <tr>\n",
       "      <th>2</th>\n",
       "      <td>4141</td>\n",
       "      <td>1965</td>\n",
       "      <td>Graduation</td>\n",
       "      <td>Together</td>\n",
       "      <td>71613.0</td>\n",
       "      <td>0</td>\n",
       "      <td>0</td>\n",
       "      <td>21-08-2013</td>\n",
       "      <td>26</td>\n",
       "      <td>426</td>\n",
       "      <td>...</td>\n",
       "      <td>4</td>\n",
       "      <td>0</td>\n",
       "      <td>0</td>\n",
       "      <td>0</td>\n",
       "      <td>0</td>\n",
       "      <td>0</td>\n",
       "      <td>0</td>\n",
       "      <td>3</td>\n",
       "      <td>11</td>\n",
       "      <td>0</td>\n",
       "    </tr>\n",
       "    <tr>\n",
       "      <th>3</th>\n",
       "      <td>6182</td>\n",
       "      <td>1984</td>\n",
       "      <td>Graduation</td>\n",
       "      <td>Together</td>\n",
       "      <td>26646.0</td>\n",
       "      <td>1</td>\n",
       "      <td>0</td>\n",
       "      <td>10-02-2014</td>\n",
       "      <td>26</td>\n",
       "      <td>11</td>\n",
       "      <td>...</td>\n",
       "      <td>6</td>\n",
       "      <td>0</td>\n",
       "      <td>0</td>\n",
       "      <td>0</td>\n",
       "      <td>0</td>\n",
       "      <td>0</td>\n",
       "      <td>0</td>\n",
       "      <td>3</td>\n",
       "      <td>11</td>\n",
       "      <td>0</td>\n",
       "    </tr>\n",
       "    <tr>\n",
       "      <th>4</th>\n",
       "      <td>5324</td>\n",
       "      <td>1981</td>\n",
       "      <td>PhD</td>\n",
       "      <td>Married</td>\n",
       "      <td>58293.0</td>\n",
       "      <td>1</td>\n",
       "      <td>0</td>\n",
       "      <td>19-01-2014</td>\n",
       "      <td>94</td>\n",
       "      <td>173</td>\n",
       "      <td>...</td>\n",
       "      <td>5</td>\n",
       "      <td>0</td>\n",
       "      <td>0</td>\n",
       "      <td>0</td>\n",
       "      <td>0</td>\n",
       "      <td>0</td>\n",
       "      <td>0</td>\n",
       "      <td>3</td>\n",
       "      <td>11</td>\n",
       "      <td>0</td>\n",
       "    </tr>\n",
       "  </tbody>\n",
       "</table>\n",
       "<p>5 rows × 29 columns</p>\n",
       "</div>"
      ],
      "text/plain": [
       "     ID  Year_Birth   Education Marital_Status   Income  Kidhome  Teenhome  \\\n",
       "0  5524        1957  Graduation         Single  58138.0        0         0   \n",
       "1  2174        1954  Graduation         Single  46344.0        1         1   \n",
       "2  4141        1965  Graduation       Together  71613.0        0         0   \n",
       "3  6182        1984  Graduation       Together  26646.0        1         0   \n",
       "4  5324        1981         PhD        Married  58293.0        1         0   \n",
       "\n",
       "  Dt_Customer  Recency  MntWines  ...  NumWebVisitsMonth  AcceptedCmp3  \\\n",
       "0  04-09-2012       58       635  ...                  7             0   \n",
       "1  08-03-2014       38        11  ...                  5             0   \n",
       "2  21-08-2013       26       426  ...                  4             0   \n",
       "3  10-02-2014       26        11  ...                  6             0   \n",
       "4  19-01-2014       94       173  ...                  5             0   \n",
       "\n",
       "   AcceptedCmp4  AcceptedCmp5  AcceptedCmp1  AcceptedCmp2  Complain  \\\n",
       "0             0             0             0             0         0   \n",
       "1             0             0             0             0         0   \n",
       "2             0             0             0             0         0   \n",
       "3             0             0             0             0         0   \n",
       "4             0             0             0             0         0   \n",
       "\n",
       "   Z_CostContact  Z_Revenue  Response  \n",
       "0              3         11         1  \n",
       "1              3         11         0  \n",
       "2              3         11         0  \n",
       "3              3         11         0  \n",
       "4              3         11         0  \n",
       "\n",
       "[5 rows x 29 columns]"
      ]
     },
     "execution_count": 3,
     "metadata": {},
     "output_type": "execute_result"
    }
   ],
   "source": [
    "df.head()"
   ]
  },
  {
   "cell_type": "markdown",
   "id": "4e73f4f4-3c2c-4252-a07b-2e4fdef481cb",
   "metadata": {},
   "source": [
    "# Code added by Taufiq "
   ]
  },
  {
   "cell_type": "code",
   "execution_count": 4,
   "id": "0307f1f4-1a13-42fd-b8ab-71c6746c8108",
   "metadata": {},
   "outputs": [],
   "source": [
    "#income replace with median:\n",
    "df['Income'].fillna(df['Income'].median(), inplace=True)"
   ]
  },
  {
   "cell_type": "code",
   "execution_count": 5,
   "id": "05b768e3-1e50-4e08-a8ba-fa77ea393699",
   "metadata": {},
   "outputs": [],
   "source": [
    "# 3. Total Number of Purchases a single customer make\n",
    "df['Total_Purchases'] = df[['NumWebPurchases', 'NumCatalogPurchases', 'NumStorePurchases', 'NumDealsPurchases']].sum(axis=1)"
   ]
  },
  {
   "cell_type": "code",
   "execution_count": 6,
   "id": "f81b353e-e07b-4c19-a1c5-b4bd91eb200c",
   "metadata": {},
   "outputs": [
    {
     "data": {
      "text/html": [
       "<div>\n",
       "<style scoped>\n",
       "    .dataframe tbody tr th:only-of-type {\n",
       "        vertical-align: middle;\n",
       "    }\n",
       "\n",
       "    .dataframe tbody tr th {\n",
       "        vertical-align: top;\n",
       "    }\n",
       "\n",
       "    .dataframe thead th {\n",
       "        text-align: right;\n",
       "    }\n",
       "</style>\n",
       "<table border=\"1\" class=\"dataframe\">\n",
       "  <thead>\n",
       "    <tr style=\"text-align: right;\">\n",
       "      <th></th>\n",
       "      <th>ID</th>\n",
       "      <th>Year_Birth</th>\n",
       "      <th>Education</th>\n",
       "      <th>Marital_Status</th>\n",
       "      <th>Income</th>\n",
       "      <th>Kidhome</th>\n",
       "      <th>Teenhome</th>\n",
       "      <th>Dt_Customer</th>\n",
       "      <th>Recency</th>\n",
       "      <th>MntWines</th>\n",
       "      <th>...</th>\n",
       "      <th>Complain</th>\n",
       "      <th>Z_CostContact</th>\n",
       "      <th>Z_Revenue</th>\n",
       "      <th>Response</th>\n",
       "      <th>Total_Purchases</th>\n",
       "      <th>Education_2n Cycle</th>\n",
       "      <th>Education_Basic</th>\n",
       "      <th>Education_Graduation</th>\n",
       "      <th>Education_Master</th>\n",
       "      <th>Education_PhD</th>\n",
       "    </tr>\n",
       "  </thead>\n",
       "  <tbody>\n",
       "    <tr>\n",
       "      <th>0</th>\n",
       "      <td>5524</td>\n",
       "      <td>1957</td>\n",
       "      <td>Graduation</td>\n",
       "      <td>Single</td>\n",
       "      <td>58138.0</td>\n",
       "      <td>0</td>\n",
       "      <td>0</td>\n",
       "      <td>04-09-2012</td>\n",
       "      <td>58</td>\n",
       "      <td>635</td>\n",
       "      <td>...</td>\n",
       "      <td>0</td>\n",
       "      <td>3</td>\n",
       "      <td>11</td>\n",
       "      <td>1</td>\n",
       "      <td>25</td>\n",
       "      <td>False</td>\n",
       "      <td>False</td>\n",
       "      <td>True</td>\n",
       "      <td>False</td>\n",
       "      <td>False</td>\n",
       "    </tr>\n",
       "    <tr>\n",
       "      <th>1</th>\n",
       "      <td>2174</td>\n",
       "      <td>1954</td>\n",
       "      <td>Graduation</td>\n",
       "      <td>Single</td>\n",
       "      <td>46344.0</td>\n",
       "      <td>1</td>\n",
       "      <td>1</td>\n",
       "      <td>08-03-2014</td>\n",
       "      <td>38</td>\n",
       "      <td>11</td>\n",
       "      <td>...</td>\n",
       "      <td>0</td>\n",
       "      <td>3</td>\n",
       "      <td>11</td>\n",
       "      <td>0</td>\n",
       "      <td>6</td>\n",
       "      <td>False</td>\n",
       "      <td>False</td>\n",
       "      <td>True</td>\n",
       "      <td>False</td>\n",
       "      <td>False</td>\n",
       "    </tr>\n",
       "    <tr>\n",
       "      <th>2</th>\n",
       "      <td>4141</td>\n",
       "      <td>1965</td>\n",
       "      <td>Graduation</td>\n",
       "      <td>Together</td>\n",
       "      <td>71613.0</td>\n",
       "      <td>0</td>\n",
       "      <td>0</td>\n",
       "      <td>21-08-2013</td>\n",
       "      <td>26</td>\n",
       "      <td>426</td>\n",
       "      <td>...</td>\n",
       "      <td>0</td>\n",
       "      <td>3</td>\n",
       "      <td>11</td>\n",
       "      <td>0</td>\n",
       "      <td>21</td>\n",
       "      <td>False</td>\n",
       "      <td>False</td>\n",
       "      <td>True</td>\n",
       "      <td>False</td>\n",
       "      <td>False</td>\n",
       "    </tr>\n",
       "    <tr>\n",
       "      <th>3</th>\n",
       "      <td>6182</td>\n",
       "      <td>1984</td>\n",
       "      <td>Graduation</td>\n",
       "      <td>Together</td>\n",
       "      <td>26646.0</td>\n",
       "      <td>1</td>\n",
       "      <td>0</td>\n",
       "      <td>10-02-2014</td>\n",
       "      <td>26</td>\n",
       "      <td>11</td>\n",
       "      <td>...</td>\n",
       "      <td>0</td>\n",
       "      <td>3</td>\n",
       "      <td>11</td>\n",
       "      <td>0</td>\n",
       "      <td>8</td>\n",
       "      <td>False</td>\n",
       "      <td>False</td>\n",
       "      <td>True</td>\n",
       "      <td>False</td>\n",
       "      <td>False</td>\n",
       "    </tr>\n",
       "    <tr>\n",
       "      <th>4</th>\n",
       "      <td>5324</td>\n",
       "      <td>1981</td>\n",
       "      <td>PhD</td>\n",
       "      <td>Married</td>\n",
       "      <td>58293.0</td>\n",
       "      <td>1</td>\n",
       "      <td>0</td>\n",
       "      <td>19-01-2014</td>\n",
       "      <td>94</td>\n",
       "      <td>173</td>\n",
       "      <td>...</td>\n",
       "      <td>0</td>\n",
       "      <td>3</td>\n",
       "      <td>11</td>\n",
       "      <td>0</td>\n",
       "      <td>19</td>\n",
       "      <td>False</td>\n",
       "      <td>False</td>\n",
       "      <td>False</td>\n",
       "      <td>False</td>\n",
       "      <td>True</td>\n",
       "    </tr>\n",
       "  </tbody>\n",
       "</table>\n",
       "<p>5 rows × 35 columns</p>\n",
       "</div>"
      ],
      "text/plain": [
       "     ID  Year_Birth   Education Marital_Status   Income  Kidhome  Teenhome  \\\n",
       "0  5524        1957  Graduation         Single  58138.0        0         0   \n",
       "1  2174        1954  Graduation         Single  46344.0        1         1   \n",
       "2  4141        1965  Graduation       Together  71613.0        0         0   \n",
       "3  6182        1984  Graduation       Together  26646.0        1         0   \n",
       "4  5324        1981         PhD        Married  58293.0        1         0   \n",
       "\n",
       "  Dt_Customer  Recency  MntWines  ...  Complain  Z_CostContact  Z_Revenue  \\\n",
       "0  04-09-2012       58       635  ...         0              3         11   \n",
       "1  08-03-2014       38        11  ...         0              3         11   \n",
       "2  21-08-2013       26       426  ...         0              3         11   \n",
       "3  10-02-2014       26        11  ...         0              3         11   \n",
       "4  19-01-2014       94       173  ...         0              3         11   \n",
       "\n",
       "   Response  Total_Purchases  Education_2n Cycle  Education_Basic  \\\n",
       "0         1               25               False            False   \n",
       "1         0                6               False            False   \n",
       "2         0               21               False            False   \n",
       "3         0                8               False            False   \n",
       "4         0               19               False            False   \n",
       "\n",
       "   Education_Graduation  Education_Master  Education_PhD  \n",
       "0                  True             False          False  \n",
       "1                  True             False          False  \n",
       "2                  True             False          False  \n",
       "3                  True             False          False  \n",
       "4                 False             False           True  \n",
       "\n",
       "[5 rows x 35 columns]"
      ]
     },
     "execution_count": 6,
     "metadata": {},
     "output_type": "execute_result"
    }
   ],
   "source": [
    "# Applying one-hot encoding to the 'Education' categorical variable\n",
    "from sklearn.preprocessing import OneHotEncoder\n",
    "education_ohe = pd.get_dummies(df['Education'], prefix='Education')\n",
    "\n",
    "# Adding the one-hot encoded columns to the main DataFrame\n",
    "df = pd.concat([df, education_ohe], axis=1)\n",
    "\n",
    "# Displaying the first few rows to verify the new columns\n",
    "df.head()"
   ]
  },
  {
   "cell_type": "code",
   "execution_count": null,
   "id": "1dc34dce",
   "metadata": {},
   "outputs": [],
   "source": [
    "df.info()"
   ]
  },
  {
   "cell_type": "code",
   "execution_count": null,
   "id": "7dc52a49",
   "metadata": {},
   "outputs": [],
   "source": [
    "df.describe()"
   ]
  },
  {
   "cell_type": "code",
   "execution_count": null,
   "id": "17790d03",
   "metadata": {},
   "outputs": [],
   "source": [
    "import matplotlib.pyplot as plt\n",
    "df.hist(bins=50, figsize=(20,15))\n",
    "plt.show()"
   ]
  },
  {
   "cell_type": "code",
   "execution_count": null,
   "id": "6ba3e95b",
   "metadata": {},
   "outputs": [],
   "source": [
    "#corr_matrix =df.corr()\n",
    "# Select only numeric columns\n",
    "numeric_df = df.select_dtypes(include=['float64', 'int64'])\n",
    "\n",
    "# Compute correlation matrix\n",
    "corr_matrix = numeric_df.corr()"
   ]
  },
  {
   "cell_type": "code",
   "execution_count": null,
   "id": "ac527ca8",
   "metadata": {},
   "outputs": [],
   "source": [
    "print(corr_matrix)"
   ]
  },
  {
   "cell_type": "code",
   "execution_count": null,
   "id": "122f6f40",
   "metadata": {},
   "outputs": [],
   "source": [
    "df[\"Year_Birth\"].value_counts()"
   ]
  },
  {
   "cell_type": "code",
   "execution_count": null,
   "id": "37423cf4",
   "metadata": {},
   "outputs": [],
   "source": [
    "df[\"Education\"].value_counts()"
   ]
  },
  {
   "cell_type": "code",
   "execution_count": null,
   "id": "7c2f40da",
   "metadata": {},
   "outputs": [],
   "source": [
    "df[\"Marital_Status\"].value_counts()"
   ]
  },
  {
   "cell_type": "code",
   "execution_count": null,
   "id": "1c1d3bd4",
   "metadata": {},
   "outputs": [],
   "source": [
    "df[\"Kidhome\"].value_counts()"
   ]
  },
  {
   "cell_type": "code",
   "execution_count": null,
   "id": "45e1599b",
   "metadata": {},
   "outputs": [],
   "source": [
    "df[\"Teenhome\"].value_counts()"
   ]
  },
  {
   "cell_type": "code",
   "execution_count": null,
   "id": "9d02134e",
   "metadata": {},
   "outputs": [],
   "source": [
    "print(df.isnull().sum())"
   ]
  },
  {
   "cell_type": "code",
   "execution_count": null,
   "id": "e446548a",
   "metadata": {},
   "outputs": [],
   "source": [
    "df=df.dropna(subset=[\"Income\"]) "
   ]
  },
  {
   "cell_type": "code",
   "execution_count": null,
   "id": "7dc993ce",
   "metadata": {},
   "outputs": [],
   "source": [
    "print(df.isnull().sum())"
   ]
  },
  {
   "cell_type": "code",
   "execution_count": null,
   "id": "54ea0880",
   "metadata": {},
   "outputs": [],
   "source": [
    "from pandas.plotting import scatter_matrix\n",
    "attributes = [\"Income\", \"MntWines\", \"MntFruits\",\n",
    " \"MntMeatProducts\",\"MntFishProducts\",\"MntSweetProducts\",\"MntGoldProds\"]\n",
    "scatter_matrix(df[attributes], figsize=(12, 8))"
   ]
  },
  {
   "cell_type": "code",
   "execution_count": null,
   "id": "9f1ea8df",
   "metadata": {},
   "outputs": [],
   "source": [
    "df[\"Dt_Customer\"] = pd.to_datetime(df[\"Dt_Customer\"], format='mixed')\n",
    "dates = []\n",
    "for i in df[\"Dt_Customer\"]:\n",
    "    i = i.date()\n",
    "    dates.append(i)  \n",
    "#Dates of the newest and oldest recorded customer\n",
    "print(\"The newest customer's enrolment date in therecords:\",max(dates))\n",
    "print(\"The oldest customer's enrolment date in the records:\",min(dates))"
   ]
  },
  {
   "cell_type": "code",
   "execution_count": null,
   "id": "2b3ef586",
   "metadata": {},
   "outputs": [],
   "source": [
    "#creation d'une feature \"Customer_For\"\n",
    "days = []\n",
    "d1 = max(dates) #taking it to be the newest customer\n",
    "for i in dates:\n",
    "    delta = d1 - i\n",
    "    days.append(delta)\n",
    "df[\"Customer_For\"] = days\n",
    "df[\"Customer_For\"] = pd.to_numeric(df[\"Customer_For\"], errors=\"coerce\")"
   ]
  },
  {
   "cell_type": "code",
   "execution_count": null,
   "id": "3c96cf59",
   "metadata": {},
   "outputs": [],
   "source": [
    "df.describe()"
   ]
  },
  {
   "cell_type": "code",
   "execution_count": null,
   "id": "cb7d0132",
   "metadata": {},
   "outputs": [],
   "source": [
    "df[\"Age\"] = 2020-df[\"Year_Birth\"]"
   ]
  },
  {
   "cell_type": "code",
   "execution_count": null,
   "id": "ba39a93d",
   "metadata": {},
   "outputs": [],
   "source": [
    "df[\"Spent\"] = df[\"MntWines\"]+ df[\"MntFruits\"]+ df[\"MntMeatProducts\"]+ df[\"MntFishProducts\"]+ df[\"MntSweetProducts\"]+ df[\"MntGoldProds\"]\n",
    "\n",
    "#Deriving living situation by marital status\"Alone\"\n",
    "df[\"Living_With\"]=df[\"Marital_Status\"].replace({\"Married\":\"Partner\", \"Together\":\"Partner\", \"Absurd\":\"Alone\", \"Widow\":\"Alone\", \"YOLO\":\"Alone\", \"Divorced\":\"Alone\", \"Single\":\"Alone\",})\n",
    "df[\"Children\"]=df[\"Kidhome\"]+df[\"Teenhome\"]"
   ]
  },
  {
   "cell_type": "code",
   "execution_count": null,
   "id": "e7d6725e-3a61-4a32-9426-5c1bc3b971dc",
   "metadata": {},
   "outputs": [],
   "source": [
    "#Add by Taufiq: feature = Total Number of Purchases a single customer make\n",
    "df['Total_Purchases'] = df[['NumWebPurchases', 'NumCatalogPurchases', 'NumStorePurchases', 'NumDealsPurchases']].sum(axis=1)"
   ]
  },
  {
   "cell_type": "code",
   "execution_count": null,
   "id": "639fadcc",
   "metadata": {},
   "outputs": [],
   "source": [
    "df[\"Family_Size\"] = df[\"Living_With\"].replace({\"Alone\": 1, \"Partner\":2})+ df[\"Children\"]"
   ]
  },
  {
   "cell_type": "code",
   "execution_count": null,
   "id": "ab5d4341",
   "metadata": {},
   "outputs": [],
   "source": [
    "#Dropping the outliers by setting a cap on Age and income. \n",
    "df = df[(df[\"Age\"]<90)]\n",
    "df = df[(df[\"Income\"]<600000)]"
   ]
  },
  {
   "cell_type": "code",
   "execution_count": null,
   "id": "b8cb6016",
   "metadata": {},
   "outputs": [],
   "source": [
    "df[\"Is_Parent\"] = np.where(df.Children> 0, 1, 0)\n",
    "df[\"IncomePer\"] =df[\"Income\"]/df[\"Family_Size\"]"
   ]
  },
  {
   "cell_type": "code",
   "execution_count": null,
   "id": "327a939d",
   "metadata": {},
   "outputs": [],
   "source": [
    "to_drop = [\"Marital_Status\", \"Dt_Customer\",\"Year_Birth\",\"Income\",'Z_CostContact','Z_Revenue']\n",
    "df= df.drop(to_drop, axis=1)"
   ]
  },
  {
   "cell_type": "code",
   "execution_count": null,
   "id": "0de574fe",
   "metadata": {},
   "outputs": [],
   "source": [
    "df[\"Age\"].value_counts()"
   ]
  },
  {
   "cell_type": "code",
   "execution_count": null,
   "id": "3a0956ec",
   "metadata": {},
   "outputs": [],
   "source": [
    "df[\"Total_Promos\"] = df[\"AcceptedCmp1\"]+ df[\"AcceptedCmp2\"]+ df[\"AcceptedCmp3\"]+ df[\"AcceptedCmp4\"]+ df[\"AcceptedCmp5\"]"
   ]
  },
  {
   "cell_type": "code",
   "execution_count": null,
   "id": "2bcaaac3",
   "metadata": {},
   "outputs": [],
   "source": [
    "#Get list of categorical variables\n",
    "s = (df.dtypes == 'object')\n",
    "object_cols = list(s[s].index)\n",
    "\n",
    "print(\"Categorical variables in the dataset:\", object_cols)"
   ]
  },
  {
   "cell_type": "code",
   "execution_count": null,
   "id": "dbcc3b49",
   "metadata": {},
   "outputs": [],
   "source": [
    "#Label Encoding the object dtypes.\n",
    "LE=LabelEncoder()\n",
    "for i in object_cols:\n",
    "    df[i]=df[[i]].apply(LE.fit_transform)\n",
    "    \n",
    "print(\"All features are now numerical\")"
   ]
  },
  {
   "cell_type": "code",
   "execution_count": null,
   "id": "f13ea2e4",
   "metadata": {},
   "outputs": [],
   "source": [
    "selected_attributes = ['Education', 'IncomePer', 'Kidhome','Teenhome','Age','Spent','Living_With','Children','Family_Size','Is_Parent','MntWines', 'MntFruits', 'MntMeatProducts', 'MntFishProducts',\n",
    "                     'MntSweetProducts', 'MntGoldProds', 'NumDealsPurchases',\n",
    "                     'NumWebPurchases', 'NumCatalogPurchases', 'NumStorePurchases',\n",
    "                     'NumWebVisitsMonth']\n",
    "data1 = df[selected_attributes].copy()"
   ]
  },
  {
   "cell_type": "code",
   "execution_count": null,
   "id": "ce352fcf",
   "metadata": {},
   "outputs": [],
   "source": [
    "#Scaling\n",
    "scaler = StandardScaler()\n",
    "scaler.fit(data1)\n",
    "data1 = pd.DataFrame(scaler.transform(data1),columns= data1.columns )\n",
    "\n",
    "print(\"All features are now scaled\")"
   ]
  },
  {
   "cell_type": "code",
   "execution_count": null,
   "id": "7a3d5cf5",
   "metadata": {},
   "outputs": [],
   "source": [
    "data1.head()"
   ]
  },
  {
   "cell_type": "code",
   "execution_count": null,
   "id": "7bb33886",
   "metadata": {},
   "outputs": [],
   "source": [
    "from sklearn.cluster import KMeans\n",
    "\n",
    "k_values = range(1, 11) \n",
    "\n",
    "# Initialize an empty list to store the within-cluster sum of squares (WCSS) for each value of k\n",
    "wcss = []\n",
    "\n",
    "# Iterate over each value of k\n",
    "for k in k_values:\n",
    "    # Initialize the k-means clustering algorithm with the current value of k\n",
    "    kmeans = KMeans(n_clusters=k, random_state=42)\n",
    "    \n",
    "    # Fit the k-means model to the subset data\n",
    "    kmeans.fit(data1)\n",
    "    \n",
    "    # Append the WCSS to the list\n",
    "    wcss.append(kmeans.inertia_)\n",
    "\n",
    "# Plot the elbow curve\n",
    "plt.plot(k_values, wcss, marker='o', linestyle='-', color='b')\n",
    "plt.xlabel('Number of Clusters (k)')\n",
    "plt.ylabel('Within-Cluster Sum of Squares (WCSS)')\n",
    "plt.title('Elbow Method for Optimal k')\n",
    "plt.xticks(k_values)\n",
    "plt.show()"
   ]
  },
  {
   "cell_type": "code",
   "execution_count": null,
   "id": "3ada6a92",
   "metadata": {},
   "outputs": [],
   "source": [
    "#Initiating the Agglomerative Clustering model \n",
    "AC = AgglomerativeClustering(n_clusters=3)\n",
    "# fit model and predict clusters\n",
    "yhat_AC = AC.fit_predict(data1)\n",
    "data1[\"Clusters\"] = yhat_AC\n",
    "#Adding the Clusters feature to the orignal dataframe.\n",
    "df[\"Clusters\"]= yhat_AC"
   ]
  },
  {
   "cell_type": "code",
   "execution_count": null,
   "id": "20344965",
   "metadata": {},
   "outputs": [],
   "source": [
    "#Plotting countplot of clusters\n",
    "pal = [\"#682F2F\",\"#B9C0C9\", \"#9F8A78\",\"#F3AB60\"]\n",
    "pl = sns.countplot(x=df[\"Clusters\"], palette= pal)\n",
    "pl.set_title(\"Distribution Of The Clusters\")\n",
    "plt.show()"
   ]
  },
  {
   "cell_type": "code",
   "execution_count": null,
   "id": "a0b480ec",
   "metadata": {},
   "outputs": [],
   "source": [
    "pl = sns.scatterplot(data = df,x=df[\"Spent\"], y=df[\"IncomePer\"],hue=df[\"Clusters\"], palette= pal)\n",
    "pl.set_title(\"Cluster's Profile Based On Income And Spending\")\n",
    "plt.legend()\n",
    "plt.show()"
   ]
  },
  {
   "cell_type": "code",
   "execution_count": null,
   "id": "6deff96e",
   "metadata": {},
   "outputs": [],
   "source": [
    "#Plotting count of total campaign accepted.\n",
    "plt.figure()\n",
    "pl = sns.countplot(x=df[\"Total_Promos\"],hue=df[\"Clusters\"], palette= pal)\n",
    "pl.set_title(\"Count Of Promotion Accepted\")\n",
    "pl.set_xlabel(\"Number Of Total Accepted Promotions\")\n",
    "plt.show()"
   ]
  },
  {
   "cell_type": "code",
   "execution_count": null,
   "id": "82b74757",
   "metadata": {},
   "outputs": [],
   "source": [
    "plt.figure()\n",
    "pl = sns.countplot(x=df[\"Children\"],hue=df[\"Clusters\"], palette= pal)\n",
    "pl.set_title(\"Number of Children\")\n",
    "pl.set_xlabel(\"Number of Children\")\n",
    "plt.show()"
   ]
  },
  {
   "cell_type": "code",
   "execution_count": null,
   "id": "275f00bb",
   "metadata": {},
   "outputs": [],
   "source": [
    "plt.figure()\n",
    "pl = sns.countplot(x=df[\"Is_Parent\"],hue=df[\"Clusters\"], palette= pal)\n",
    "pl.set_title(\"is parent\")\n",
    "pl.set_xlabel(\"is parent\")\n",
    "plt.show()"
   ]
  },
  {
   "cell_type": "code",
   "execution_count": null,
   "id": "becf61ad",
   "metadata": {},
   "outputs": [],
   "source": [
    "plt.figure()\n",
    "pl = sns.countplot(x=df[\"Kidhome\"],hue=df[\"Clusters\"], palette= pal)\n",
    "pl.set_title(\"number of kids\")\n",
    "pl.set_xlabel(\"number of kids\")\n",
    "plt.show()"
   ]
  },
  {
   "cell_type": "code",
   "execution_count": null,
   "id": "8e7d72d7",
   "metadata": {},
   "outputs": [],
   "source": [
    "plt.figure()\n",
    "pl = sns.countplot(x=df[\"Teenhome\"],hue=df[\"Clusters\"], palette= pal)\n",
    "pl.set_title(\"number of teens\")\n",
    "pl.set_xlabel(\"number of teens\")\n",
    "plt.show()"
   ]
  },
  {
   "cell_type": "code",
   "execution_count": null,
   "id": "1f960c80",
   "metadata": {},
   "outputs": [],
   "source": [
    "#!pip install mlxtend"
   ]
  },
  {
   "cell_type": "code",
   "execution_count": null,
   "id": "08633cad",
   "metadata": {},
   "outputs": [],
   "source": [
    "#data1.describe()\n",
    "df.describe()"
   ]
  },
  {
   "cell_type": "code",
   "execution_count": null,
   "id": "9cc120ec",
   "metadata": {},
   "outputs": [],
   "source": [
    "percentile_25 = df['MntSweetProducts'].quantile(0.25)\n",
    "#print(percentile_75)\n",
    "#median_value = df['MntGoldProds'].median()\n",
    "#mean_value = df['MntGoldProds'].mean()\n",
    "print(percentile_25)"
   ]
  },
  {
   "cell_type": "code",
   "execution_count": null,
   "id": "8cfee94c",
   "metadata": {},
   "outputs": [],
   "source": [
    "cluster_means = df.groupby(\"Clusters\").mean()\n",
    "\n",
    "# Print cluster means\n",
    "print(\"Cluster means:\")\n",
    "print(cluster_means)"
   ]
  },
  {
   "cell_type": "code",
   "execution_count": null,
   "id": "1063280d",
   "metadata": {},
   "outputs": [],
   "source": [
    "!pip install pyfpgrowth"
   ]
  },
  {
   "cell_type": "code",
   "execution_count": null,
   "id": "54add0c7",
   "metadata": {},
   "outputs": [],
   "source": [
    "import pyfpgrowth\n",
    "\n",
    "# Define the unique cluster numbers\n",
    "clusters = df['Clusters'].unique()\n",
    "\n",
    "# Specify the minimum support threshold\n",
    "min_support = 0.1\n",
    "top_supported_itemsets = {}\n",
    "# Iterate over each cluster\n",
    "for cluster in clusters:\n",
    "    # Filter the main dataset for the current cluster\n",
    "    cluster_data = df[df['Clusters'] == cluster]\n",
    "    # Convert the cluster data into transaction format\n",
    "    transactions = []\n",
    "    for index, row in cluster_data.iterrows():\n",
    "        # Create a list to store items in the transaction\n",
    "        transaction = []\n",
    "        if row['MntWines'] > 175.50:\n",
    "            transaction.append('wine')\n",
    "        if row['MntFruits'] > 8:\n",
    "            transaction.append('fruits')\n",
    "        if row['MntMeatProducts'] > 68:\n",
    "            transaction.append('meat')\n",
    "        if row['MntFishProducts'] > 12:\n",
    "            transaction.append('fish')\n",
    "        if row['MntSweetProducts'] >8:\n",
    "            transaction.append('sweet')\n",
    "        if row['MntGoldProds'] > 24.5:\n",
    "            transaction.append('gold')\n",
    "\n",
    "    transactions.append(transaction)\n",
    "    \n",
    "    # Apply FP-Growth algorithm to find frequent itemsets for the current cluster\n",
    "    patterns = pyfpgrowth.find_frequent_patterns(transactions, min_support)\n",
    "    sorted_patterns = sorted(patterns.items(), key=lambda x: x[1], reverse=True)[:3]\n",
    "    top_supported_itemsets[cluster] = sorted_patterns\n",
    "    # Print frequent itemsets with their support for the current cluster\n",
    "    print(f\"Frequent itemsets for Cluster {cluster}:\")\n",
    "    for itemset, support in patterns.items():\n",
    "        print(f\"Itemset: {itemset}, Support: {support}\")\n",
    "        \n",
    "    print()\n"
   ]
  },
  {
   "cell_type": "code",
   "execution_count": null,
   "id": "dfc13a19",
   "metadata": {},
   "outputs": [],
   "source": [
    "for cluster, itemsets in top_supported_itemsets.items():\n",
    "    print(f\"Cluster {cluster}: Top three itemsets with the most support:\")\n",
    "    for itemset, support in itemsets:\n",
    "        print(f\"Itemset: {itemset}, Support: {support}\")\n",
    "    print()"
   ]
  },
  {
   "cell_type": "code",
   "execution_count": null,
   "id": "c4d617d0",
   "metadata": {},
   "outputs": [],
   "source": [
    "min_support = 0.1\n",
    "top_supported_itemsets = {}\n",
    "# Iterate over each cluster\n",
    "for cluster in clusters:\n",
    "    # Filter the main dataset for the current cluster\n",
    "    cluster_data = df[df['Clusters'] == cluster]\n",
    "    # Convert the cluster data into transaction format\n",
    "    transactions = []\n",
    "    for index, row in cluster_data.iterrows():\n",
    "        # Create a list to store items in the transaction\n",
    "        transaction = []\n",
    "        if row['MntWines'] > 24:\n",
    "            transaction.append('wine')\n",
    "        if row['MntFruits'] > 2:\n",
    "            transaction.append('fruits')\n",
    "        if row['MntMeatProducts'] > 16:\n",
    "            transaction.append('meat')\n",
    "        if row['MntFishProducts'] > 3:\n",
    "            transaction.append('fish')\n",
    "        if row['MntSweetProducts'] > 1:\n",
    "            transaction.append('sweet')\n",
    "        if row['MntGoldProds'] > 1:\n",
    "            transaction.append('gold')\n",
    "\n",
    "    transactions.append(transaction)\n",
    "    \n",
    "    # Apply FP-Growth algorithm to find frequent itemsets for the current cluster\n",
    "    patterns = pyfpgrowth.find_frequent_patterns(transactions, min_support)\n",
    "    sorted_patterns = sorted(patterns.items(), key=lambda x: x[1], reverse=True)[:3]\n",
    "    top_supported_itemsets[cluster] = sorted_patterns\n",
    "    # Print frequent itemsets with their support for the current cluster\n",
    "    print(f\"Frequent itemsets for Cluster {cluster}:\")\n",
    "    for itemset, support in patterns.items():\n",
    "        print(f\"Itemset: {itemset}, Support: {support}\")\n",
    "        \n",
    "    print()\n"
   ]
  },
  {
   "cell_type": "code",
   "execution_count": null,
   "id": "ad4ee1aa",
   "metadata": {},
   "outputs": [],
   "source": [
    "for cluster, itemsets in top_supported_itemsets.items():\n",
    "    print(f\"Cluster {cluster}: Top three itemsets with the most support:\")\n",
    "    for itemset, support in itemsets:\n",
    "        print(f\"Itemset: {itemset}, Support: {support}\")\n",
    "    print()"
   ]
  },
  {
   "cell_type": "code",
   "execution_count": null,
   "id": "47e90018",
   "metadata": {},
   "outputs": [],
   "source": []
  },
  {
   "cell_type": "code",
   "execution_count": null,
   "id": "fcfd3362-a967-4536-83a5-da5ef847e4ea",
   "metadata": {},
   "outputs": [],
   "source": []
  },
  {
   "cell_type": "code",
   "execution_count": null,
   "id": "51dce0a7-530c-4081-9b7b-4e96d23014e1",
   "metadata": {},
   "outputs": [],
   "source": []
  }
 ],
 "metadata": {
  "kernelspec": {
   "display_name": "Python 3 (ipykernel)",
   "language": "python",
   "name": "python3"
  },
  "language_info": {
   "codemirror_mode": {
    "name": "ipython",
    "version": 3
   },
   "file_extension": ".py",
   "mimetype": "text/x-python",
   "name": "python",
   "nbconvert_exporter": "python",
   "pygments_lexer": "ipython3",
   "version": "3.11.4"
  }
 },
 "nbformat": 4,
 "nbformat_minor": 5
}
